{
 "cells": [
  {
   "cell_type": "markdown",
   "metadata": {},
   "source": [
    "# Funciones"
   ]
  },
  {
   "cell_type": "markdown",
   "metadata": {},
   "source": [
    "### \"Una función es una porción o bloque de código reutilizable que se encarga de realizar una determinada tarea.\""
   ]
  },
  {
   "cell_type": "markdown",
   "metadata": {},
   "source": [
    "Para declarar una función solo se debe poner la palabra \"def\" seguido del nombre de la función y dos puntos (:), para el ejemplo le hemos puesto \"sumar\"\n",
    "Esta función nos permitirá obtener el resultado de una suma de los número 10 y 20"
   ]
  },
  {
   "cell_type": "code",
   "execution_count": 1,
   "metadata": {},
   "outputs": [
    {
     "name": "stdout",
     "output_type": "stream",
     "text": [
      "15\n"
     ]
    }
   ],
   "source": [
    "def sumar():\n",
    "    print(5+10)\n",
    "    \n",
    "sumar()"
   ]
  },
  {
   "cell_type": "markdown",
   "metadata": {},
   "source": [
    "### ¿Pero qué podemos hacer si no queremos sumar sólo los valores 5 y 10?\n",
    "#### Agregamos parametros a la función que sirven como variables\n",
    "Si colocamos dentro del paréntesis dos variables sean \"a\" y \"b\" python esperará de esta función cuando sea \"llamada\" que incluya dos números o valores en su interior.\n",
    "Ejemplo. (Cambia el valor de los número al final de la celda para que observes el comprtamiento de la función con base a los parámetros.\n",
    "##### Imprime la suma de a y b! :O "
   ]
  },
  {
   "cell_type": "code",
   "execution_count": 4,
   "metadata": {},
   "outputs": [
    {
     "name": "stdout",
     "output_type": "stream",
     "text": [
      "8\n"
     ]
    }
   ],
   "source": [
    "def sumar(a,b):\n",
    "    print(a+b)\n",
    "    \n",
    "sumar(3,5)"
   ]
  },
  {
   "cell_type": "markdown",
   "metadata": {},
   "source": [
    "Pero esta función solo mprime valores, ¿qué pasa si queremos guardar el valor en una variable externa?"
   ]
  },
  {
   "cell_type": "code",
   "execution_count": 5,
   "metadata": {},
   "outputs": [
    {
     "name": "stdout",
     "output_type": "stream",
     "text": [
      "4\n"
     ]
    }
   ],
   "source": [
    "miSuma=sumar(2,2) #Parece que funciona?"
   ]
  },
  {
   "cell_type": "code",
   "execution_count": 6,
   "metadata": {},
   "outputs": [
    {
     "name": "stdout",
     "output_type": "stream",
     "text": [
      "None\n"
     ]
    }
   ],
   "source": [
    "print(miSuma) #si imprimo mi variable obtengo None. ¿por qué?"
   ]
  },
  {
   "cell_type": "markdown",
   "metadata": {},
   "source": [
    "Al definir nuestra función con print(a+b) lo único que hará será imprimir un valor pero nunca lo guardará o regresará para ser utilizado nuevamente.\n",
    "##### ¿Qué hacer?\n",
    "Usamos una palabra clave : **return**"
   ]
  },
  {
   "cell_type": "code",
   "execution_count": 7,
   "metadata": {},
   "outputs": [
    {
     "name": "stdout",
     "output_type": "stream",
     "text": [
      "4\n"
     ]
    }
   ],
   "source": [
    "def sumar(a,b):\n",
    "    return a+b #regresa suma de a y b\n",
    "\n",
    "miSuma = sumar(2,2) #asigna el resultado de sumar(a,b) a variable miSuma\n",
    "\n",
    "print(miSuma) #imprime miSuma"
   ]
  },
  {
   "cell_type": "markdown",
   "metadata": {},
   "source": [
    "###### Return \"regresa\" el valor obtenido en la función al lugar donde fue llamado"
   ]
  },
  {
   "cell_type": "markdown",
   "metadata": {},
   "source": [
    "# Reto\n",
    "### Crea una función para restar, multiplicar, dividir y elevar al cuadrado\n",
    "##### Considera los parámetros que vayas a necesitas y comenta los pasos en caso de ser necesario"
   ]
  },
  {
   "cell_type": "code",
   "execution_count": null,
   "metadata": {},
   "outputs": [],
   "source": []
  }
 ],
 "metadata": {
  "kernelspec": {
   "display_name": "Python 3",
   "language": "python",
   "name": "python3"
  },
  "language_info": {
   "codemirror_mode": {
    "name": "ipython",
    "version": 3
   },
   "file_extension": ".py",
   "mimetype": "text/x-python",
   "name": "python",
   "nbconvert_exporter": "python",
   "pygments_lexer": "ipython3",
   "version": "3.7.4"
  }
 },
 "nbformat": 4,
 "nbformat_minor": 2
}
